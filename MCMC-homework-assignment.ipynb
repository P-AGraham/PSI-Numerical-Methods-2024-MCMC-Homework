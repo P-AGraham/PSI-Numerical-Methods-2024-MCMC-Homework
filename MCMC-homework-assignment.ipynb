{
 "cells": [
  {
   "cell_type": "markdown",
   "id": "20a02177-7b6b-44eb-88dc-34b1cac20e11",
   "metadata": {},
   "source": [
    "# PSI Numerical Methods 2024 - Homework Assignment on Model Fitting & MCMC"
   ]
  },
  {
   "cell_type": "markdown",
   "id": "089e3de8-0052-42f4-a165-3f11dd288705",
   "metadata": {},
   "source": [
    "We're going to put together everything we have learned so far to re-do the data analysis for the\n",
    "Perlmutter et al. 1999 paper on the discovery of dark energy!  (https://ui.adsabs.harvard.edu/abs/1999ApJ...517..565P/abstract)\n",
    "\n",
    "Start by `Forking` this repository on Github: https://github.com/dstndstn/PSI-Numerical-Methods-2024-MCMC-Homework\n",
    "And then clone the repository to your laptop or to Symmetry.\n",
    "You can modify this notebook, and when you are done, save it, and then `git commit -a` the results,\n",
    "and `git push` them back to your fork of the repository.  You will \"hand in\" your homework by giving\n",
    "a link to your Github repository, where the marker will be able to read your notebook.\n",
    "\n",
    "First, a little bit of background on the cosmology and astrophysics.  The paper reports measurements\n",
    "of a group of supernova explosions of a specific type, \"Type 1a\".  These are thought to be caused by\n",
    "a white dwarf star that has a companion star that \"donates\" gas to the white dwarf.  It gradually gains\n",
    "mass until it exceeds the Chandresekhar mass, and explodes.  Since they all explode through the same\n",
    "mechanism, and with the same mass, they should all have the same intrinsic brightess.  It turns out to\n",
    "be a _little_ more complicated than that, but in the end, these Type-1a supernovae can be turned into\n",
    "\"standard candles\", objects that are all the same brightness.  If you can also measure the redshift of\n",
    "each galaxy containing the supernova, then you can map out this brightness--redshift relation, and the\n",
    "shape of that relation depends on how the universe grows over cosmic time.  In turn, the growth rate of\n",
    "the universe depends on the contents of the universe!\n",
    "\n",
    "In this way, these Type-1a supernova allow us to constrain the parameters of a model of the universe.\n",
    "Specifically, the model is called \"Lambda-CDM\", a universe containing dark energy and matter (cold dark matter,\n",
    "plus regular matter).  We will consider a two-parameter version of this model: $\\Omega_M$, the\n",
    "amount of matter, and $\\Omega_{\\Lambda}$, the amount of dark energy.  These are in cosmology units of\n",
    "\"energy density now relative to the critical density\", where the critical density is the energy density you need\n",
    "for the universe to be spatially flat (angles of a large triangle sum to 180 degrees).\n",
    "So $\\Omega_M = 1$, $\\Omega_{\\Lambda} = 0$ would be a flat universe containing all matter, while\n",
    "$\\Omega_M = 0.25$, $\\Omega_{\\Lambda} = 0.5$ would be a spatially closed universe with dark energy and matter.\n",
    "Varying these ingredients changes the growth history of the universe, which changes how much the light from a\n",
    "supernova is redshifted, and how its brightness drops off with distance.\n",
    "\n",
    "(In the code below, we will call these `Omega_M` = $\\Omega_M$ and `Omega_DE` = $\\Omega_{\\Lambda}$.)\n",
    "\n",
    "Distance measurements in cosmology are complicated -- see https://arxiv.org/abs/astro-ph/9905116 for details!\n",
    "For this assignment, we will use a cosmology package that will handle all this for us.  All we need to use is\n",
    "the \"luminosity distance\", which is the one that tells you how objects get fainter given a redshift."
   ]
  },
  {
   "cell_type": "code",
   "execution_count": 28,
   "id": "a17ad42b-16b9-45ef-ac06-06383f50764a",
   "metadata": {},
   "outputs": [
    {
     "name": "stderr",
     "output_type": "stream",
     "text": [
      "\u001b[32m\u001b[1m   Resolving\u001b[22m\u001b[39m package versions...\n"
     ]
    },
    {
     "name": "stderr",
     "output_type": "stream",
     "text": [
      "\u001b[32m\u001b[1m  No Changes\u001b[22m\u001b[39m to `C:\\Users\\pgraham1\\Documents\\GitHub\\PSI\\Project.toml`\n",
      "\u001b[32m\u001b[1m  No Changes\u001b[22m\u001b[39m to `C:\\Users\\pgraham1\\Documents\\GitHub\\PSI\\Manifest.toml`\n"
     ]
    },
    {
     "name": "stderr",
     "output_type": "stream",
     "text": [
      "\u001b[32m\u001b[1m   Resolving\u001b[22m\u001b[39m package versions..."
     ]
    },
    {
     "name": "stderr",
     "output_type": "stream",
     "text": [
      "\n"
     ]
    },
    {
     "name": "stderr",
     "output_type": "stream",
     "text": [
      "\u001b[32m\u001b[1m   Installed\u001b[22m\u001b[39m ModernGL ─ v1.1.7\n",
      "\u001b[32m\u001b[1m   Installed\u001b[22m\u001b[39m GLFW ───── v3.4.1\n"
     ]
    },
    {
     "name": "stderr",
     "output_type": "stream",
     "text": [
      "\u001b[32m\u001b[1m   Installed\u001b[22m\u001b[39m GLMakie ── v0.9.5\n"
     ]
    },
    {
     "name": "stderr",
     "output_type": "stream",
     "text": [
      "\u001b[32m\u001b[1m   Installed\u001b[22m\u001b[39m MeshIO ─── v0.4.10\n"
     ]
    },
    {
     "name": "stderr",
     "output_type": "stream",
     "text": [
      "\u001b[32m\u001b[1m    Updating\u001b[22m\u001b[39m `C:\\Users\\pgraham1\\Documents\\GitHub\\PSI\\Project.toml`\n",
      " "
     ]
    },
    {
     "name": "stderr",
     "output_type": "stream",
     "text": [
      "\u001b[90m [e9467ef8] \u001b[39m\u001b[92m+ GLMakie v0.9.5\u001b[39m"
     ]
    },
    {
     "name": "stderr",
     "output_type": "stream",
     "text": [
      "\n",
      "\u001b[32m\u001b[1m    Updating\u001b[22m\u001b[39m `C:\\Users\\pgraham1\\Documents\\GitHub\\PSI\\Manifest.toml`\n",
      " \u001b[90m [f7f18e0c] \u001b[39m\u001b[92m+ GLFW v3.4.1\u001b[39m\n",
      " \u001b[90m [e9467ef8] \u001b[39m\u001b[92m+ GLMakie v0.9.5\u001b[39m\n",
      " \u001b[90m [7269a6da] \u001b[39m\u001b[92m+ MeshIO v0.4.10\u001b[39m\n",
      " \u001b[90m [66fc600b] \u001b[39m\u001b[92m+ ModernGL v1.1.7\u001b[39m"
     ]
    },
    {
     "name": "stderr",
     "output_type": "stream",
     "text": [
      "\n",
      "\u001b[32m\u001b[1m    Building\u001b[22m\u001b[39m ModernGL → `C:\\Users\\pgraham1\\.julia\\scratchspaces\\44cfe95a-1eb2-52ea-b672-e2afdf69b78f\\b76ea40b5c0f45790ae09492712dd326208c28b2\\build.log`\n"
     ]
    },
    {
     "name": "stderr",
     "output_type": "stream",
     "text": [
      "\u001b[32m\u001b[1mPrecompiling\u001b[22m\u001b[39m "
     ]
    },
    {
     "name": "stderr",
     "output_type": "stream",
     "text": [
      "project..."
     ]
    },
    {
     "name": "stderr",
     "output_type": "stream",
     "text": [
      "\n"
     ]
    },
    {
     "name": "stderr",
     "output_type": "stream",
     "text": [
      "\u001b[32m  ✓ \u001b[39m\u001b[90mModernGL\u001b[39m"
     ]
    },
    {
     "name": "stderr",
     "output_type": "stream",
     "text": [
      "\n"
     ]
    },
    {
     "name": "stderr",
     "output_type": "stream",
     "text": [
      "\u001b[32m  ✓ \u001b[39m\u001b[90mMeshIO\u001b[39m\n"
     ]
    },
    {
     "name": "stderr",
     "output_type": "stream",
     "text": [
      "\u001b[32m  ✓ \u001b[39m\u001b[90mGLFW\u001b[39m"
     ]
    },
    {
     "name": "stderr",
     "output_type": "stream",
     "text": [
      "\n"
     ]
    }
   ],
   "source": [
    "# Let's start by installing the Cosmology package!\n",
    "using Pkg\n",
    "Pkg.add(\"Cosmology\")\n",
    "Pkg.add(\"GLMakie\")"
   ]
  },
  {
   "cell_type": "code",
   "execution_count": 3,
   "id": "0dbffaea-f314-4272-962e-3358d17420e5",
   "metadata": {},
   "outputs": [],
   "source": [
    "# We'll also end up using all our old friends:\n",
    "using GLMakie\n",
    "using CSV\n",
    "using DataFrames\n",
    "using Cosmology\n",
    "using Statistics"
   ]
  },
  {
   "cell_type": "code",
   "execution_count": 4,
   "id": "f6ae3590-762f-47df-828e-371884e1978f",
   "metadata": {},
   "outputs": [],
   "source": [
    "# There is a data file in this directory, taken basically straight out of the Perlmutter+1999 paper.  We can read it with the CSV package.\n",
    "data = CSV.read(\"p99-data.txt\", DataFrame, delim=\" \", ignorerepeated=true);"
   ]
  },
  {
   "cell_type": "code",
   "execution_count": 5,
   "id": "d9e31b8e-4324-4e9d-8ce0-d40efd7316c4",
   "metadata": {},
   "outputs": [],
   "source": [
    "# Make a copy of the data columns that we want to treat as the \"y\" measurements.\n",
    "# These are the measured brightnesses, and their Gaussian uncertainties (standard deviations).\n",
    "data.mag = data.m_b_eff\n",
    "data.sigma_mag = data.sigma_m_b_eff;"
   ]
  },
  {
   "cell_type": "code",
   "execution_count": 6,
   "id": "46283e6a-9661-42db-88b7-387a8876ad02",
   "metadata": {},
   "outputs": [
    {
     "data": {
      "text/plain": [
       "GLMakie.Screen(...)"
      ]
     },
     "metadata": {},
     "output_type": "display_data"
    }
   ],
   "source": [
    "f = Figure()\n",
    "Axis(f[1,1], title=\"Perlmutter+99 Supernovae\", xlabel=\"Redshift z\", ylabel=\"m_B\")\n",
    "errorbars!(data.z, data.mag, data.sigma_mag)\n",
    "scatter!(data.z, data.mag, markersize=5, color=:maroon)\n",
    "save(\"Perlmutter_plus99_Supernovae.png\", f)\n",
    "\n",
    "display(f)"
   ]
  },
  {
   "cell_type": "code",
   "execution_count": 7,
   "id": "3a3a7bcf-79a7-4bd9-9fa0-b003560012a5",
   "metadata": {},
   "outputs": [
    {
     "name": "stdout",
     "output_type": "stream",
     "text": [
      "universe = Cosmology.OpenLCDM{Float64}(0.69, 0.1, 0.5, 0.4, 0.0)"
     ]
    },
    {
     "name": "stdout",
     "output_type": "stream",
     "text": [
      "\n",
      "universe.Ω_Λ = "
     ]
    },
    {
     "name": "stdout",
     "output_type": "stream",
     "text": [
      "0.5\n"
     ]
    }
   ],
   "source": [
    "# Here is how we will use the \"cosmology\" package.  This will create a cosmology \"object\" with the parameters we pass in.\n",
    "# It does not take an Omega_Lambda parameter; instead, it takes Omega_Matter, and Omega_K (for \"curvature\"), where\n",
    "# Omega_K = 1. - Omatter - Olambda.  We will also pass in \"Tcmb=0\", which tells it to ignore the effects of radiation.\n",
    "\n",
    "universe = cosmology(OmegaK=0.1, OmegaM=0.4, Tcmb=0)\n",
    "@show universe\n",
    "@show universe.Ω_Λ;"
   ]
  },
  {
   "cell_type": "code",
   "execution_count": 8,
   "id": "9319a9a6-0ed7-46d8-b7bc-27a98b3b3248",
   "metadata": {},
   "outputs": [],
   "source": [
    "# We can then pass that \"universe\" object to other functions to compute things about it.  Basically the only one you'll\n",
    "# need is this `distance_modulus`, which tell you, in _magnitudes_, how much fainter an object is at the given redshift,\n",
    "# versus how faint it would be if it were 10 parsecs away.\n",
    "\n",
    "function distance_modulus(universe, z)\n",
    "    DL = luminosity_dist(universe, z)\n",
    "    # DL is in Megaparsecs; the distance for absolute to observed mag is 10 pc.\n",
    "    5. * log10.(DL.val * 1e6 / 10.)\n",
    "end;"
   ]
  },
  {
   "cell_type": "markdown",
   "id": "ed8fea48-101c-4efa-a99f-07728489187a",
   "metadata": {},
   "source": [
    "There is one more parameter to the model we will be fitting: $M$, the _absolute magnitude_ of the supernovae.  This is a\n",
    "\"nuisance parameter\" - a parameter that we have to fit for, but that we don't really care about; it's basically a calibration\n",
    "of what the intrinsic brightness of a supernova is.  To start out, we will fix this value to a constant, but later we will\n",
    "fit for it along with our Omegas.\n",
    "\n",
    "The _observed_ brightness of a supernova will be its _absolute mag_ plus its _distance modulus_.  The _distance modulus_ depends on\n",
    "the redshift _z_ and our parameters Omega_M and Omega_DE."
   ]
  },
  {
   "cell_type": "code",
   "execution_count": 10,
   "id": "22a7cb6d-ff20-48e4-9578-90be73eaf8b7",
   "metadata": {},
   "outputs": [
    {
     "data": {
      "text/plain": [
       "GLMakie.Screen(...)"
      ]
     },
     "metadata": {},
     "output_type": "display_data"
    }
   ],
   "source": [
    "# We'll cheat a bit and use a \"nominal\" cosmology with currently-accepted values of Omega_M = 0.29, Omega_DE = 0.71.\n",
    "nominal = cosmology(Tcmb=0)\n",
    "\n",
    "f = Figure()\n",
    "ax = Axis(f[1,1], title=\"Perlmutter+99 Supernovae\", xlabel=\"Redshift z\", ylabel=\"Observed mag\")\n",
    "errorbars!(data.z, data.mag, data.sigma_mag)\n",
    "scatter!(data.z, data.mag, markersize=5, color=:maroon)\n",
    "\n",
    "# Compute the average absolute magnitude M given nominal cosmology -- ie, an estimate of the absolute mag of the supernovae\n",
    "DLx = map(z->distance_modulus(nominal, z), data.z)\n",
    "abs_mag = median(data.mag - DLx)\n",
    "\n",
    "# Here's another way to plot a function evaluated on a grid of values.\n",
    "zgrid = 0.01:0.01:1.\n",
    "DL = map(z->distance_modulus(nominal, z), zgrid)\n",
    "lines!(zgrid, DL .+ abs_mag, label=\"Nominal OmegaM = 0.29, OmegaDE = 0.71\")\n",
    "\n",
    "universe = cosmology(OmegaK=0.0, OmegaM=0.6, Tcmb=0)\n",
    "DL = map(z->distance_modulus(universe, z), zgrid)\n",
    "lines!(zgrid, DL .+ abs_mag, color=:red, label=\"OmegaM = 0.6, OmegaDE = 0.4\")\n",
    "\n",
    "universe = cosmology(OmegaK=0.0, OmegaM=0.1, Tcmb=0)\n",
    "DL = map(z->distance_modulus(universe, z), zgrid)\n",
    "lines!(zgrid, DL .+ abs_mag, color=:green, label=\"OmegaM = 0.1, OmegaDE = 0.9\")\n",
    "\n",
    "#f[2,1] = Legend(f, ax, \"Cosmologies\", framevisible = false)\n",
    "# Create a legend for our plot\n",
    "axislegend(ax, position = :rb)\n",
    "\n",
    "save(\"Perlmutter_plus99_Supernovae_accepted.png\", f)\n",
    "\n",
    "display(f)"
   ]
  },
  {
   "cell_type": "code",
   "execution_count": 11,
   "id": "f0ea93f2-27bb-4797-bc32-3eedce485a37",
   "metadata": {},
   "outputs": [
    {
     "data": {
      "text/plain": [
       "-19.228824925301424"
      ]
     },
     "metadata": {},
     "output_type": "display_data"
    }
   ],
   "source": [
    "# Here's our scalar estimate of the absolute mag.\n",
    "abs_mag"
   ]
  },
  {
   "cell_type": "markdown",
   "id": "06d4b51d-099c-4c8a-8bc8-505b6f3dc99c",
   "metadata": {},
   "source": [
    "## Part 1 - The Log-likelihood terrain"
   ]
  },
  {
   "cell_type": "markdown",
   "id": "f31e698a-cf0b-4b7f-b47f-b8e37f38b686",
   "metadata": {},
   "source": [
    "First, you have to write out the likelihood function for the observed supernova data, given cosmological model parameters.\n",
    "\n",
    "That is, please complete the following function.  It will be passed vectors of `z`, `mag`, and `mag_error` measurements,\n",
    "plus scalar parameters `M`, `Omega_M` and `Omega_DE`.  You will need to create a \"cosmology\" object, find the _distance modulus_ for\n",
    "each redshift `z`, and add that to the absolute mag `M` to get the _predicted_ magnitude.  You will then compare that to each\n",
    "measured magnitude, and compute the likelihood."
   ]
  },
  {
   "cell_type": "code",
   "execution_count": 12,
   "id": "24887ff8-e68b-49cc-bcc1-c43849059be0",
   "metadata": {},
   "outputs": [],
   "source": [
    "function supernova_log_likelihood(z, mag, mag_error, M, Omatter, Ode)\n",
    "    # z: vector of redshifts\n",
    "    # mag: vector of measured magnitudes\n",
    "    # mag_error: vector of uncertainties on the measured magnitudes (sigmas).\n",
    "    # M: scalar, absolute magnitude of a Type-1a supernova\n",
    "    # Omatter: scalar Omega_M, amount of matter in the universe\n",
    "    # Ode: scalar Omega_DE, amount of dark energy in the universe\n",
    "\n",
    "    ###   YOUR CODE HERE!!\n",
    "    OmegaK = 1 - Omatter - Ode\n",
    "    universe = cosmology(OmegaK = OmegaK, OmegaM = Omatter, Tcmb=0)\n",
    "    \n",
    "    mag_pred = M .+ map(zi->distance_modulus(universe, zi), z)\n",
    "    chi = (mag_pred .- mag) ./ mag_error\n",
    "    # Here, I am omitting the 1/(sqrt(2 pi)) term because it is constant every time!\n",
    "    loglike = -0.5 .* chi .^ 2 - log10.(mag_error)\n",
    "\n",
    "    return sum(loglike)\n",
    "\n",
    "    # You must return a scalar value\n",
    "end;"
   ]
  },
  {
   "cell_type": "markdown",
   "id": "95f5fed8-816a-45b5-b443-70687aca094f",
   "metadata": {},
   "source": [
    "Next, please keep `M` fixed to the `abs_mag` value we computed above, and call your `supernova_log_likelihood` on a grid of\n",
    "`Omega_M` and `Omega_DE` values.  (You will pass in `data.z`, `data.mag`, and `data.sigma_mag` for the `z`, `mag`, and `mag_error` values.)\n",
    "\n",
    "Try a grid from 0 to 1 for both Omega_M and Omega_DE, and show the `supernova_log_likelihood` values using the `heatmap` function.\n",
    "You may find it helpful to limit the range using something like `heatmap(om_grid, ode_grid, sn_ll, colorrange=[maximum(sn_ll)-20, maximum(sn_ll)])`.\n",
    "\n",
    "Another thing you can do is, instead of showing the _log_-likelihood, show the likelihood by taking the `exp` of your `sn_ll` grid, like this, `heatmap(om_grid, ode_grid, exp.(sn_ll))`.\n",
    "\n",
    "Please compare your plot to Figure 7 in the Perlmutter et al. 1999 paper, shown below.  Does your likelihood contour look consistent with the blue ellipses?"
   ]
  },
  {
   "cell_type": "code",
   "execution_count": 86,
   "id": "306b69c2",
   "metadata": {},
   "outputs": [
    {
     "data": {
      "text/plain": [
       "GLMakie.Screen(...)"
      ]
     },
     "metadata": {},
     "output_type": "display_data"
    }
   ],
   "source": [
    "n_DE, n_M = 100, 100\n",
    "ode_grid = LinRange(-1, 3, n_DE)\n",
    "om_grid = LinRange(0, 3, n_M)\n",
    "sn_ll = zeros(n_M, n_DE)\n",
    "M = abs_mag\n",
    "\n",
    "function supernova_log_likelihood_extended(z, mag, mag_error, M, Omatter, Ode)\n",
    "    ll = 0.\n",
    "    try\n",
    "        ll = supernova_log_likelihood(z, mag, mag_error, M, Omatter, Ode)\n",
    "    catch err\n",
    "        ll = -Inf\n",
    "    end\n",
    "end\n",
    "\n",
    "for i in 1:n_DE\n",
    "    for j in 1:n_M\n",
    "        ode = ode_grid[i]\n",
    "        om = om_grid[j]\n",
    "        \n",
    "        sn_ll[j, i] = supernova_log_likelihood_extended(data.z, data.mag, data.sigma_mag, abs_mag, om, ode)\n",
    "    end\n",
    "end\n",
    "\n",
    "colorrange = [maximum(sn_ll)-20, maximum(sn_ll)]\n",
    "f, ax, hm = heatmap(om_grid, ode_grid, sn_ll, colorrange=colorrange)\n",
    "Colorbar(f[:, end+1], hm)\n",
    "\n",
    "save(\"log_likelihood_hm.png\", f)\n",
    "\n",
    "display(f)"
   ]
  },
  {
   "cell_type": "markdown",
   "id": "3aa479c5-cfcc-464c-a558-89f14c06598f",
   "metadata": {},
   "source": [
    "<img src=\"perlmutter-fig7.png\" width=\"400\"/>\n",
    "\n"
   ]
  },
  {
   "cell_type": "markdown",
   "id": "8cfd66f9-4563-42d8-98a9-18bed8670740",
   "metadata": {},
   "source": [
    "Next, try expanding the grid ranges for Omega_M and Omega_DE up to, say, 0 to 2 or 0 to 3.  You should encounter a problem -- the cosmology package will fail to compute the `distance_modulus` for some combinations!  You can work around this by using Julia's `try...catch` syntax,\n",
    "like this:"
   ]
  },
  {
   "cell_type": "code",
   "execution_count": 18,
   "id": "eb33058c-5639-4b02-9e09-ff15145ab86b",
   "metadata": {},
   "outputs": [
    {
     "data": {
      "text/plain": [
       "-Inf"
      ]
     },
     "metadata": {},
     "output_type": "display_data"
    }
   ],
   "source": [
    "# Example of Julia's try-catch syntax:\n",
    "ll = 0.\n",
    "try\n",
    "    ll = supernova_log_likelihood(data.z, data.mag, data.sigma_mag, abs_mag, 2.0, 2.0)\n",
    "catch err\n",
    "    ll = -Inf\n",
    "end"
   ]
  },
  {
   "cell_type": "markdown",
   "id": "6948a594-9b26-4ead-b915-e5ffff5b1e55",
   "metadata": {},
   "source": [
    "This will \"try\" to run the `supernova_log_likelihood` function, and if it fails, it will go into the \"catch\" branch."
   ]
  },
  {
   "cell_type": "markdown",
   "id": "e7afcb85-5a3e-4f6b-a3bb-aa4f36e2f34c",
   "metadata": {},
   "source": [
    "## Part 2 - Using MCMC to sample from the likelihood"
   ]
  },
  {
   "cell_type": "markdown",
   "id": "db573922-c863-4ded-91fa-cc458d43c54f",
   "metadata": {},
   "source": [
    "Next, we will use Markov Chain Monte Carlo to draw samples from the likelihood distribution.\n",
    "\n",
    "You can start with the `mcmc` function from the lecture.\n",
    "\n",
    "You will need to tune the MCMC proposal's step sizes (also known as \"jump sizes\").  To do this, you can use\n",
    "the variant of the `mcmc` routine that cycles through the parameters and only jumps one at a time, named\n",
    "`mcmc_cyclic` in the updated lecture notebook.  After tuning the step sizes with `mcmc_cyclic`, you can go back\n",
    "to the plain `mcmc` routine if you want, or stick with `mcmc_cyclic`; it is up to you.\n",
    "\n",
    "Please plot the samples from your MCMC chains, to demonstrate that the chain looks like it has converged.  Ideally, you\n",
    "would like to see reasonable acceptance rates, and you would like to see the samples \"exploring\" the parameter space.\n",
    "Decide how many step you need to run the MCMC routine for, and write a sentence or two describing why you think that's\n",
    "a good number.\n",
    "\n",
    "For this part, please include the `M` (absolute magnitude) as a parameter that you are fitting -- so you are fitting for `M`\n",
    "in addition to `Omega_M` and `Omega_DE`.  This is a quite standard situation where you have a \"nuisance\" parameter `M`\n",
    "that you don't really care about, in addition to the `Omega` parameters that you do care about."
   ]
  },
  {
   "cell_type": "markdown",
   "id": "9bd3cc89-207a-4b34-bb9f-b591e25a513d",
   "metadata": {},
   "source": [
    "It is quite common to plot the results from an MCMC sampling using a \"corner plot\", which shows the distribution of\n",
    "each of the individual parameters, and the joint distributions of pairs of parameters.  This will help you determine\n",
    "whether some of the parameters are correlated with each other.\n",
    "\n",
    "Below is a function you can use to generate corner plots from your chain -- call it like `cornerplot(chain, [\"M\", \"Omega_M\", \"Omega_DE\"])`.  There is also a CornerPlot package (https://juliapackages.com/p/cornerplot) but I have not had luck getting it\n",
    "to work for me.\n",
    "\n",
    "Once you have made you corner plots, please write a few sentences interpreting what you see.  Is the nuisance parameter `M` correlated with the Omegas?  Are the Omegas correlated with each other?"
   ]
  },
  {
   "cell_type": "code",
   "execution_count": 136,
   "id": "2ec8c1f2-b24d-4c5f-a068-3b4868b575eb",
   "metadata": {},
   "outputs": [
    {
     "name": "stdout",
     "output_type": "stream",
     "text": [
      "accept_rate = 0.31233333333333335\n",
      "size(chain) = (9000, 3)\n"
     ]
    },
    {
     "data": {
      "text/plain": [
       "(9000, 3)"
      ]
     },
     "metadata": {},
     "output_type": "display_data"
    }
   ],
   "source": [
    "function propose(p, jump_sizes)\n",
    "    p .+ randn(length(p)) .* jump_sizes\n",
    "end;\n",
    "\n",
    "function mcmc(logprob_func, propose_func, initial_p, n_steps)\n",
    "    p = initial_p\n",
    "    logprob = logprob_func(p)\n",
    "    chain = zeros(n_steps, length(p))\n",
    "    n_accept = 0\n",
    "    for i in 1:n_steps\n",
    "        p_new = propose_func(p)\n",
    "        logprob_new = logprob_func(p_new)\n",
    "        ratio = exp(logprob_new - logprob)\n",
    "\n",
    "        if ratio > 1\n",
    "            p = p_new\n",
    "            logprob = logprob_new\n",
    "            n_accept += 1\n",
    "        else\n",
    "            u = rand()\n",
    "            if u < ratio\n",
    "                p = p_new\n",
    "                logprob = logprob_new\n",
    "                n_accept += 1\n",
    "            else\n",
    "            end\n",
    "        end\n",
    "        chain[i, 1:end] = p\n",
    "    end\n",
    "    chain, n_accept ./ n_steps\n",
    "end;\n",
    "\n",
    "initial_guess = [-20, 0.5, 0.5]\n",
    "jump_sizes = [0.08, 0.1, 0.1]\n",
    "\n",
    "chain, accept_rate = mcmc(p -> supernova_log_likelihood_extended(data.z, data.mag, data.sigma_mag, p[1], p[2], p[3]), p -> propose(p, jump_sizes), initial_guess, 9000)\n",
    "@show accept_rate\n",
    "@show size(chain)\n"
   ]
  },
  {
   "cell_type": "code",
   "execution_count": 138,
   "id": "732b877b",
   "metadata": {},
   "outputs": [
    {
     "data": {
      "text/plain": [
       "GLMakie.Screen(...)"
      ]
     },
     "metadata": {},
     "output_type": "display_data"
    }
   ],
   "source": [
    "function cornerplot(x, names; figsize=(500,500))\n",
    "    # how many columns of data\n",
    "    dim = size(x, 2)\n",
    "    # rows to plot\n",
    "    idxs = 1:size(x,1)\n",
    "    f = Figure(size=figsize)\n",
    "    for i in 1:dim, j in 1:dim\n",
    "        if i < j\n",
    "            continue\n",
    "        end\n",
    "        ax = Axis(f[i, j], aspect = 1,\n",
    "                  topspinevisible = false,\n",
    "                  rightspinevisible = false,)\n",
    "        if i == j\n",
    "            hist!(x[idxs,i], direction=:y)\n",
    "            ax.xlabel = names[i]\n",
    "        else\n",
    "            #scatter!(x[idxs,j], x[idxs,i], markersize=4)\n",
    "            hexbin!(x[idxs,j], x[idxs,i])\n",
    "            ax.xlabel = names[j]\n",
    "            ax.ylabel = names[i]\n",
    "        end\n",
    "    end\n",
    "    f\n",
    "end;\n",
    "\n",
    "f = cornerplot(chain, [\"M\", \"Omega_M\", \"Omega_DE\"])\n",
    "save(\"cornerplot.png\", f)\n",
    "\n",
    "display(f)\n"
   ]
  },
  {
   "cell_type": "markdown",
   "id": "99827555",
   "metadata": {},
   "source": [
    "We see from these plots that $M$ is not correlated to $\\Omega_M$ and $\\Omega_{DE}$ (the vertical distribution of hexagons in the cornerplot shows that jumps in $M$ do not affect jumps in other parameters). $\\Omega_M$ and $\\Omega_{DE}$ are correlated because the distribution of hexagons is not vertical (a jump in one parameter influences jumps in the other). "
   ]
  },
  {
   "cell_type": "markdown",
   "id": "b461568a-ce96-4bb3-9031-652320a7334c",
   "metadata": {},
   "source": [
    "Finally, please try to make a contour plot similar to Perlmutter et al.'s Figure 7.  From your MCMC chain, you can pull out the `Omega_M` and `Omega_DE` arrays, and then create a 2-d histogram.  Once you have a 2-d histogram, you can use the `contour` function to find and plot the contours in that histogram."
   ]
  },
  {
   "cell_type": "code",
   "execution_count": null,
   "id": "927e9d91",
   "metadata": {},
   "outputs": [],
   "source": [
    "using Pkg\n",
    "Pkg.add(\"FHist\")"
   ]
  },
  {
   "cell_type": "code",
   "execution_count": 149,
   "id": "e2ef39cb",
   "metadata": {},
   "outputs": [
    {
     "ename": "MethodError",
     "evalue": "MethodError: no method matching _block(::Type{Axis}, ::Plot{Makie.contour, Tuple{Vector{Float32}, Vector{Float32}, Matrix{Float32}}}; title=\"Contour\", xlabel=r\"$\\\\Omega_M$\", ylabel=r\"$\\\\Omega_{DE}$\")\nClosest candidates are:\n  _block(::Type{var\"#s1540\"} where var\"#s1540\"<:Makie.Block, !Matched::Union{GridPosition, GridSubposition}, !Matched::Any...; kwargs...) at C:\\Users\\pgraham1\\.julia\\packages\\Makie\\fyNiH\\src\\makielayout\\blocks.jl:263\n  _block(::Type{var\"#s284\"} where var\"#s284\"<:Makie.Block, !Matched::Union{Figure, Scene}, !Matched::Any, !Matched::Dict, !Matched::Any; kwdict_complete) at C:\\Users\\pgraham1\\.julia\\packages\\Makie\\fyNiH\\src\\makielayout\\blocks.jl:308 got unsupported keyword arguments \"title\", \"xlabel\", \"ylabel\"\n  _block(::Type{var\"#s1540\"} where var\"#s1540\"<:Makie.Block, !Matched::Union{Figure, Scene}, !Matched::Any...; bbox, kwargs...) at C:\\Users\\pgraham1\\.julia\\packages\\Makie\\fyNiH\\src\\makielayout\\blocks.jl:275",
     "output_type": "error",
     "traceback": [
      "MethodError: no method matching _block(::Type{Axis}, ::Plot{Makie.contour, Tuple{Vector{Float32}, Vector{Float32}, Matrix{Float32}}}; title=\"Contour\", xlabel=r\"$\\\\Omega_M$\", ylabel=r\"$\\\\Omega_{DE}$\")\n",
      "Closest candidates are:\n",
      "  _block(::Type{var\"#s1540\"} where var\"#s1540\"<:Makie.Block, !Matched::Union{GridPosition, GridSubposition}, !Matched::Any...; kwargs...) at C:\\Users\\pgraham1\\.julia\\packages\\Makie\\fyNiH\\src\\makielayout\\blocks.jl:263\n",
      "  _block(::Type{var\"#s284\"} where var\"#s284\"<:Makie.Block, !Matched::Union{Figure, Scene}, !Matched::Any, !Matched::Dict, !Matched::Any; kwdict_complete) at C:\\Users\\pgraham1\\.julia\\packages\\Makie\\fyNiH\\src\\makielayout\\blocks.jl:308 got unsupported keyword arguments \"title\", \"xlabel\", \"ylabel\"\n",
      "  _block(::Type{var\"#s1540\"} where var\"#s1540\"<:Makie.Block, !Matched::Union{Figure, Scene}, !Matched::Any...; bbox, kwargs...) at C:\\Users\\pgraham1\\.julia\\packages\\Makie\\fyNiH\\src\\makielayout\\blocks.jl:275\n",
      "\n",
      "Stacktrace:\n",
      " [1] Axis(args::Plot{Makie.contour, Tuple{Vector{Float32}, Vector{Float32}, Matrix{Float32}}}; kwargs::Base.Iterators.Pairs{Symbol, Any, Tuple{Symbol, Symbol, Symbol}, NamedTuple{(:title, :xlabel, :ylabel), Tuple{String, Regex, Regex}}})\n",
      "   @ Makie C:\\Users\\pgraham1\\.julia\\packages\\Makie\\fyNiH\\src\\makielayout\\blocks.jl:254\n",
      " [2] top-level scope\n",
      "   @ c:\\Users\\pgraham1\\Documents\\GitHub\\PSI\\Numerical_Methods\\PSI-Numerical-Methods-2024-MCMC-Homework\\MCMC-homework-assignment.ipynb:9"
     ]
    }
   ],
   "source": [
    "using FHist\n",
    "\n",
    "h = FHist.Hist2D((chain[:,2], chain[:,3]); nbins=(100,100))\n",
    "\n",
    "counts = bincounts(h);\n",
    "xc,yc = bincenters(h);\n",
    "\n",
    "f = contour!(xc, yc, counts) #, levels=[10,50,100])\n",
    "Axis(f, title=\"Contour\", xlabel=\"Omega_M\", ylabel=\"Omega_{DE}\")\n",
    "\n",
    "save(\"contourplot.png\", f)\n",
    "\n",
    "\n",
    "display(f)"
   ]
  },
  {
   "cell_type": "code",
   "execution_count": null,
   "id": "7d5f6646",
   "metadata": {},
   "outputs": [],
   "source": []
  }
 ],
 "metadata": {
  "kernelspec": {
   "display_name": "Julia 1.6.7",
   "language": "julia",
   "name": "julia-1.6"
  },
  "language_info": {
   "file_extension": ".jl",
   "mimetype": "application/julia",
   "name": "julia",
   "version": "1.6.7"
  }
 },
 "nbformat": 4,
 "nbformat_minor": 5
}
