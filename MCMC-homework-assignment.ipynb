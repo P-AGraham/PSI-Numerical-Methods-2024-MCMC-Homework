{
 "cells": [
  {
   "cell_type": "markdown",
   "id": "20a02177-7b6b-44eb-88dc-34b1cac20e11",
   "metadata": {},
   "source": [
    "# PSI Numerical Methods 2024 - Homework Assignment on Model Fitting & MCMC"
   ]
  },
  {
   "cell_type": "markdown",
   "id": "089e3de8-0052-42f4-a165-3f11dd288705",
   "metadata": {},
   "source": [
    "We're going to put together everything we have learned so far to re-do the data analysis for the\n",
    "Perlmutter et al. 1999 paper on the discovery of dark energy!  (https://ui.adsabs.harvard.edu/abs/1999ApJ...517..565P/abstract)\n",
    "\n",
    "Start by `Forking` this repository on Github: https://github.com/dstndstn/PSI-Numerical-Methods-2024-MCMC-Homework\n",
    "And then clone the repository to your laptop or to Symmetry.\n",
    "You can modify this notebook, and when you are done, save it, and then `git commit -a` the results,\n",
    "and `git push` them back to your fork of the repository.  You will \"hand in\" your homework by giving\n",
    "a link to your Github repository, where the marker will be able to read your notebook.\n",
    "\n",
    "First, a little bit of background on the cosmology and astrophysics.  The paper reports measurements\n",
    "of a group of supernova explosions of a specific type, \"Type 1a\".  These are thought to be caused by\n",
    "a white dwarf star that has a companion star that \"donates\" gas to the white dwarf.  It gradually gains\n",
    "mass until it exceeds the Chandresekhar mass, and explodes.  Since they all explode through the same\n",
    "mechanism, and with the same mass, they should all have the same intrinsic brightess.  It turns out to\n",
    "be a _little_ more complicated than that, but in the end, these Type-1a supernovae can be turned into\n",
    "\"standard candles\", objects that are all the same brightness.  If you can also measure the redshift of\n",
    "each galaxy containing the supernova, then you can map out this brightness--redshift relation, and the\n",
    "shape of that relation depends on how the universe grows over cosmic time.  In turn, the growth rate of\n",
    "the universe depends on the contents of the universe!\n",
    "\n",
    "In this way, these Type-1a supernova allow us to constrain the parameters of a model of the universe.\n",
    "Specifically, the model is called \"Lambda-CDM\", a universe containing dark energy and matter (cold dark matter,\n",
    "plus regular matter).  We will consider a two-parameter version of this model: $\\Omega_M$, the\n",
    "amount of matter, and $\\Omega_{\\Lambda}$, the amount of dark energy.  These are in cosmology units of\n",
    "\"energy density now relative to the critical density\", where the critical density is the energy density you need\n",
    "for the universe to be spatially flat (angles of a large triangle sum to 180 degrees).\n",
    "So $\\Omega_M = 1$, $\\Omega_{\\Lambda} = 0$ would be a flat universe containing all matter, while\n",
    "$\\Omega_M = 0.25$, $\\Omega_{\\Lambda} = 0.5$ would be a spatially closed universe with dark energy and matter.\n",
    "Varying these ingredients changes the growth history of the universe, which changes how much the light from a\n",
    "supernova is redshifted, and how its brightness drops off with distance.\n",
    "\n",
    "(In the code below, we will call these `Omega_M` = $\\Omega_M$ and `Omega_DE` = $\\Omega_{\\Lambda}$.)\n",
    "\n",
    "Distance measurements in cosmology are complicated -- see https://arxiv.org/abs/astro-ph/9905116 for details!\n",
    "For this assignment, we will use a cosmology package that will handle all this for us.  All we need to use is\n",
    "the \"luminosity distance\", which is the one that tells you how objects get fainter given a redshift."
   ]
  },
  {
   "cell_type": "code",
   "execution_count": 1,
   "id": "a17ad42b-16b9-45ef-ac06-06383f50764a",
   "metadata": {},
   "outputs": [
    {
     "name": "stderr",
     "output_type": "stream",
     "text": [
      "\u001b[32m\u001b[1m    Updating\u001b[22m\u001b[39m registry at `C:\\Users\\pgraham1\\.julia\\registries\\General`\n"
     ]
    },
    {
     "name": "stderr",
     "output_type": "stream",
     "text": [
      "\u001b[32m\u001b[1m    Updating\u001b[22m\u001b[39m git-repo `https://github.com/JuliaRegistries/General.git`\n"
     ]
    },
    {
     "name": "stderr",
     "output_type": "stream",
     "text": [
      "\u001b[32m\u001b[1m   Resolving\u001b[22m\u001b[39m package versions..."
     ]
    },
    {
     "name": "stderr",
     "output_type": "stream",
     "text": [
      "\n"
     ]
    },
    {
     "name": "stderr",
     "output_type": "stream",
     "text": [
      "\u001b[32m\u001b[1m   Installed\u001b[22m\u001b[39m UnitfulAngles ─ v0.6.2\n",
      "\u001b[32m\u001b[1m   Installed\u001b[22m\u001b[39m Cosmology ───── v1.0.2\n",
      "\u001b[32m\u001b[1m   Installed\u001b[22m\u001b[39m UnitfulAstro ── v1.2.0\n"
     ]
    },
    {
     "name": "stderr",
     "output_type": "stream",
     "text": [
      "\u001b[32m\u001b[1m   Installed\u001b[22m\u001b[39m Unitful ─────── v1.19.0\n"
     ]
    },
    {
     "name": "stderr",
     "output_type": "stream",
     "text": [
      "\u001b[32m\u001b[1m    Updating\u001b[22m\u001b[39m `C:\\Users\\pgraham1\\Documents\\GitHub\\PSI\\Project.toml`\n",
      " \u001b[90m [76746363] \u001b[39m"
     ]
    },
    {
     "name": "stderr",
     "output_type": "stream",
     "text": [
      "\u001b[92m+ Cosmology v1.0.2\u001b[39m\n",
      "\u001b[32m\u001b[1m    Updating\u001b[22m\u001b[39m `C:\\Users\\pgraham1\\Documents\\GitHub\\PSI\\Manifest.toml`\n",
      " \u001b[90m [76746363] \u001b[39m\u001b[92m+ Cosmology v1.0.2\u001b[39m\n",
      " \u001b[90m [1986cc42] \u001b[39m\u001b[92m+ Unitful v1.19.0\u001b[39m\n",
      " \u001b[90m [6fb2a4bd] \u001b[39m\u001b[92m+ UnitfulAngles v0.6.2\u001b[39m\n",
      " \u001b[90m [6112ee07] \u001b[39m\u001b[92m+ UnitfulAstro v1.2.0\u001b[39m"
     ]
    },
    {
     "name": "stderr",
     "output_type": "stream",
     "text": [
      "\n",
      "\u001b[32m\u001b[1mPrecompiling\u001b[22m\u001b[39m"
     ]
    },
    {
     "name": "stderr",
     "output_type": "stream",
     "text": [
      " "
     ]
    },
    {
     "name": "stderr",
     "output_type": "stream",
     "text": [
      "project..."
     ]
    },
    {
     "name": "stderr",
     "output_type": "stream",
     "text": [
      "\n"
     ]
    },
    {
     "name": "stderr",
     "output_type": "stream",
     "text": [
      "\u001b[32m  ✓ \u001b[39m\u001b[90mUnitful\u001b[39m\n"
     ]
    },
    {
     "name": "stderr",
     "output_type": "stream",
     "text": [
      "\u001b[32m  ✓ \u001b[39m\u001b[90mUnitfulAngles\u001b[39m\n"
     ]
    },
    {
     "name": "stderr",
     "output_type": "stream",
     "text": [
      "\u001b[32m  ✓ \u001b[39m\u001b[90mUnitfulAstro\u001b[39m\n"
     ]
    },
    {
     "name": "stderr",
     "output_type": "stream",
     "text": [
      "\u001b[32m  ✓ \u001b[39mCosmology"
     ]
    },
    {
     "name": "stderr",
     "output_type": "stream",
     "text": [
      "\n",
      "  4 dependencies successfully precompiled in 40 seconds (246 already precompiled)\n"
     ]
    }
   ],
   "source": [
    "# Let's start by installing the Cosmology package!\n",
    "using Pkg\n",
    "Pkg.add(\"Cosmology\")"
   ]
  },
  {
   "cell_type": "code",
   "execution_count": 1,
   "id": "0dbffaea-f314-4272-962e-3358d17420e5",
   "metadata": {},
   "outputs": [],
   "source": [
    "# We'll also end up using all our old friends:\n",
    "using WGLMakie\n",
    "using CSV\n",
    "using DataFrames\n",
    "using Cosmology\n",
    "using Statistics"
   ]
  },
  {
   "cell_type": "code",
   "execution_count": 2,
   "id": "f6ae3590-762f-47df-828e-371884e1978f",
   "metadata": {},
   "outputs": [],
   "source": [
    "# There is a data file in this directory, taken basically straight out of the Perlmutter+1999 paper.  We can read it with the CSV package.\n",
    "data = CSV.read(\"p99-data.txt\", DataFrame, delim=\" \", ignorerepeated=true);"
   ]
  },
  {
   "cell_type": "code",
   "execution_count": 3,
   "id": "d9e31b8e-4324-4e9d-8ce0-d40efd7316c4",
   "metadata": {},
   "outputs": [],
   "source": [
    "# Make a copy of the data columns that we want to treat as the \"y\" measurements.\n",
    "# These are the measured brightnesses, and their Gaussian uncertainties (standard deviations).\n",
    "data.mag = data.m_b_eff\n",
    "data.sigma_mag = data.sigma_m_b_eff;"
   ]
  },
  {
   "cell_type": "code",
   "execution_count": 5,
   "id": "46283e6a-9661-42db-88b7-387a8876ad02",
   "metadata": {},
   "outputs": [
    {
     "data": {
      "text/html": [
       "<div class=\"bonito-fragment\" id=\"483e8dab-3cfd-4bca-b522-14636812b645\" data-jscall-id=\"root\">\n",
       "  <div>\n",
       "    <script src=\"http://localhost:9384/assets/4ee24f2b58206f69d6387aa5ab83ad7a61eaa457-Bonito.bundled.js\" type=\"module\"></script>\n",
       "    <style></style>\n",
       "    <div></div>\n",
       "  </div>\n",
       "  <div>\n",
       "    <script type=\"module\">    Bonito.lock_loading(() => {\n",
       "        return Bonito.fetch_binary('http://localhost:9384/assets/f9f7a8e26e277a7a5a6be887288e5c7078323baf-5692196538027605967.bin').then(msgs=> Bonito.init_session('483e8dab-3cfd-4bca-b522-14636812b645', msgs, 'root'));\n",
       "    })\n",
       "</script>\n",
       "    <script type=\"module\">    import('http://localhost:9384/assets/5b98d007e7f7c3345b72a034bcbac6a82691c13d-Websocket.bundled.js').then(WS => {\n",
       "        WS.setup_connection({proxy_url: 'http://localhost:9384', session_id: '483e8dab-3cfd-4bca-b522-14636812b645', compression_enabled: false})\n",
       "    })\n",
       "</script>\n",
       "    <div style=\"width: 100%; height: 100%\" data-jscall-id=\"1\">\n",
       "      <canvas style=\"display: block\" data-jscall-id=\"2\" tabindex=\"0\"></canvas>\n",
       "    </div>\n",
       "  </div>\n",
       "</div>"
      ],
      "text/plain": [
       "Bonito.App(Bonito.var\"#8#14\"{WGLMakie.var\"#20#21\"{WGLMakie.Screen, Scene}}(WGLMakie.var\"#20#21\"{WGLMakie.Screen, Scene}(WGLMakie.Screen(\n",
       "    framerate = 30.0,\n",
       "    resize_to = nothing,\n",
       "    px_per_unit = automatic,\n",
       "    scalefactor = automatic,\n",
       "    session = nothing,\n",
       "    three = Channel{Bool}(1) (empty),\n",
       "    scene = Scene (600px, 450px):\n",
       "  0 Plots\n",
       "  1 Child Scene:\n",
       "    └ Scene (600px, 450px),\n",
       "), Scene (600px, 450px):\n",
       "  0 Plots\n",
       "  1 Child Scene:\n",
       "    └ Scene (600px, 450px))), Base.RefValue{Union{Nothing, Bonito.Session}}(nothing), \"Bonito App\", false)"
      ]
     },
     "metadata": {},
     "output_type": "display_data"
    },
    {
     "ename": "ErrorException",
     "evalue": "Can't get three: Timed out waiting for session to get ready\nWaiting for plot to be initialized in display",
     "output_type": "error",
     "traceback": [
      "Can't get three: Timed out waiting for session to get ready\n",
      "Waiting for plot to be initialized in display\n",
      "\n",
      "Stacktrace:\n",
      "  [1] error(s::String)\n",
      "    @ Base .\\error.jl:33\n",
      "  [2] (::WGLMakie.var\"#throw_error#16\"{String})(status::String)\n",
      "    @ WGLMakie C:\\Users\\pgraham1\\.julia\\packages\\WGLMakie\\T8XOh\\src\\display.jl:197\n",
      "  [3] get_screen_session(screen::WGLMakie.Screen; timeout::Int64, error::String)\n",
      "    @ WGLMakie C:\\Users\\pgraham1\\.julia\\packages\\WGLMakie\\T8XOh\\src\\display.jl:210\n",
      "  [4] display(screen::WGLMakie.Screen, scene::Scene; unused::Base.Iterators.Pairs{Union{}, Union{}, Tuple{}, NamedTuple{(), Tuple{}}})\n",
      "    @ WGLMakie C:\\Users\\pgraham1\\.julia\\packages\\WGLMakie\\T8XOh\\src\\display.jl:255\n",
      "  [5] display\n",
      "    @ C:\\Users\\pgraham1\\.julia\\packages\\WGLMakie\\T8XOh\\src\\display.jl:246 [inlined]\n",
      "  [6] colorbuffer(screen::WGLMakie.Screen)\n",
      "    @ WGLMakie C:\\Users\\pgraham1\\.julia\\packages\\WGLMakie\\T8XOh\\src\\display.jl:277\n",
      "  [7] backend_show(screen::WGLMakie.Screen, io::IOStream, #unused#::MIME{Symbol(\"image/png\")}, scene::Scene)\n",
      "    @ Makie C:\\Users\\pgraham1\\.julia\\packages\\Makie\\fyNiH\\src\\display.jl:476\n",
      "  [8] (::Makie.var\"#1263#1264\"{Module, Bool, Base.Iterators.Pairs{Union{}, Union{}, Tuple{}, NamedTuple{(), Tuple{}}}, Figure, MIME{Symbol(\"image/png\")}, Scene})(io::IOStream)\n",
      "    @ Makie C:\\Users\\pgraham1\\.julia\\packages\\Makie\\fyNiH\\src\\display.jl:344\n",
      "  [9] open(::Makie.var\"#1263#1264\"{Module, Bool, Base.Iterators.Pairs{Union{}, Union{}, Tuple{}, NamedTuple{(), Tuple{}}}, Figure, MIME{Symbol(\"image/png\")}, Scene}, ::String, ::Vararg{String, N} where N; kwargs::Base.Iterators.Pairs{Union{}, Union{}, Tuple{}, NamedTuple{(), Tuple{}}})\n",
      "    @ Base .\\io.jl:330\n",
      " [10] open\n",
      "    @ .\\io.jl:328 [inlined]\n",
      " [11] save(file::FileIO.File{FileIO.DataFormat{:PNG}, String}, fig::Figure; size::Tuple{Int64, Int64}, resolution::Nothing, backend::Module, update::Bool, screen_config::Base.Iterators.Pairs{Union{}, Union{}, Tuple{}, NamedTuple{(), Tuple{}}})\n",
      "    @ Makie C:\\Users\\pgraham1\\.julia\\packages\\Makie\\fyNiH\\src\\display.jl:336\n",
      " [12] save(file::FileIO.File{FileIO.DataFormat{:PNG}, String}, fig::Figure)\n",
      "    @ Makie C:\\Users\\pgraham1\\.julia\\packages\\Makie\\fyNiH\\src\\display.jl:316\n",
      " [13] save(filename::String, fig::Figure; args::Base.Iterators.Pairs{Union{}, Union{}, Tuple{}, NamedTuple{(), Tuple{}}})\n",
      "    @ Makie C:\\Users\\pgraham1\\.julia\\packages\\Makie\\fyNiH\\src\\display.jl:305\n",
      " [14] save(filename::String, fig::Figure)\n",
      "    @ Makie C:\\Users\\pgraham1\\.julia\\packages\\Makie\\fyNiH\\src\\display.jl:305\n",
      " [15] top-level scope\n",
      "    @ c:\\Users\\pgraham1\\Documents\\GitHub\\PSI\\Numerical_Methods\\PSI-Numerical-Methods-2024-MCMC-Homework\\MCMC-homework-assignment.ipynb:5"
     ]
    }
   ],
   "source": [
    "f = Figure()\n",
    "Axis(f[1,1], title=\"Perlmutter+99 Supernovae\", xlabel=\"Redshift z\", ylabel=\"m_B\")\n",
    "errorbars!(data.z, data.mag, data.sigma_mag)\n",
    "scatter!(data.z, data.mag, markersize=5, color=:maroon)\n",
    "save(\"Perlmutter_plus99_Supernovae.png\", f)"
   ]
  },
  {
   "cell_type": "code",
   "execution_count": 13,
   "id": "3a3a7bcf-79a7-4bd9-9fa0-b003560012a5",
   "metadata": {},
   "outputs": [
    {
     "name": "stdout",
     "output_type": "stream",
     "text": [
      "universe = Cosmology.OpenLCDM{Float64}(0.69, 0.1, 0.5, 0.4, 0.0)\n",
      "universe.Ω_Λ = 0.5\n"
     ]
    }
   ],
   "source": [
    "# Here is how we will use the \"cosmology\" package.  This will create a cosmology \"object\" with the parameters we pass in.\n",
    "# It does not take an Omega_Lambda parameter; instead, it takes Omega_Matter, and Omega_K (for \"curvature\"), where\n",
    "# Omega_K = 1. - Omatter - Olambda.  We will also pass in \"Tcmb=0\", which tells it to ignore the effects of radiation.\n",
    "\n",
    "universe = cosmology(OmegaK=0.1, OmegaM=0.4, Tcmb=0)\n",
    "@show universe\n",
    "@show universe.Ω_Λ;"
   ]
  },
  {
   "cell_type": "code",
   "execution_count": 14,
   "id": "9319a9a6-0ed7-46d8-b7bc-27a98b3b3248",
   "metadata": {},
   "outputs": [],
   "source": [
    "# We can then pass that \"universe\" object to other functions to compute things about it.  Basically the only one you'll\n",
    "# need is this `distance_modulus`, which tell you, in _magnitudes_, how much fainter an object is at the given redshift,\n",
    "# versus how faint it would be if it were 10 parsecs away.\n",
    "\n",
    "function distance_modulus(universe, z)\n",
    "    DL = luminosity_dist(universe, z)\n",
    "    # DL is in Megaparsecs; the distance for absolute to observed mag is 10 pc.\n",
    "    5. * log10.(DL.val * 1e6 / 10.)\n",
    "end;"
   ]
  },
  {
   "cell_type": "markdown",
   "id": "ed8fea48-101c-4efa-a99f-07728489187a",
   "metadata": {},
   "source": [
    "There is one more parameter to the model we will be fitting: $M$, the _absolute magnitude_ of the supernovae.  This is a\n",
    "\"nuisance parameter\" - a parameter that we have to fit for, but that we don't really care about; it's basically a calibration\n",
    "of what the intrinsic brightness of a supernova is.  To start out, we will fix this value to a constant, but later we will\n",
    "fit for it along with our Omegas.\n",
    "\n",
    "The _observed_ brightness of a supernova will be its _absolute mag_ plus its _distance modulus_.  The _distance modulus_ depends on\n",
    "the redshift _z_ and our parameters Omega_M and Omega_DE."
   ]
  },
  {
   "cell_type": "code",
   "execution_count": 15,
   "id": "22a7cb6d-ff20-48e4-9578-90be73eaf8b7",
   "metadata": {},
   "outputs": [
    {
     "data": {
      "text/html": [
       "<div class=\"bonito-fragment\" id=\"fc9b8906-2f28-44c0-b79f-4c6fcf91cbd9\" data-jscall-id=\"root\">\n",
       "  <div>\n",
       "    <script src=\"http://localhost:9384/assets/4ee24f2b58206f69d6387aa5ab83ad7a61eaa457-Bonito.bundled.js\" type=\"module\"></script>\n",
       "    <style></style>\n",
       "    <div></div>\n",
       "  </div>\n",
       "  <div>\n",
       "    <script type=\"module\">    Bonito.lock_loading(() => {\n",
       "        return Bonito.fetch_binary('http://localhost:9384/assets/a7fa85d00b38645984c4bf80a6b807c84d96817a-10186472887883225670.bin').then(msgs=> Bonito.init_session('fc9b8906-2f28-44c0-b79f-4c6fcf91cbd9', msgs, 'root'));\n",
       "    })\n",
       "</script>\n",
       "    <script type=\"module\">    import('http://localhost:9384/assets/5b98d007e7f7c3345b72a034bcbac6a82691c13d-Websocket.bundled.js').then(WS => {\n",
       "        WS.setup_connection({proxy_url: 'http://localhost:9384', session_id: 'fc9b8906-2f28-44c0-b79f-4c6fcf91cbd9', compression_enabled: false})\n",
       "    })\n",
       "</script>\n",
       "    <div style=\"width: 100%; height: 100%\" data-jscall-id=\"1\">\n",
       "      <canvas style=\"display: block\" data-jscall-id=\"2\" tabindex=\"0\"></canvas>\n",
       "    </div>\n",
       "  </div>\n",
       "</div>"
      ]
     },
     "metadata": {},
     "output_type": "display_data"
    }
   ],
   "source": [
    "# We'll cheat a bit and use a \"nominal\" cosmology with currently-accepted values of Omega_M = 0.29, Omega_DE = 0.71.\n",
    "nominal = cosmology(Tcmb=0)\n",
    "\n",
    "f = Figure()\n",
    "ax = Axis(f[1,1], title=\"Perlmutter+99 Supernovae\", xlabel=\"Redshift z\", ylabel=\"Observed mag\")\n",
    "errorbars!(data.z, data.mag, data.sigma_mag)\n",
    "scatter!(data.z, data.mag, markersize=5, color=:maroon)\n",
    "\n",
    "# Compute the average absolute magnitude M given nominal cosmology -- ie, an estimate of the absolute mag of the supernovae\n",
    "DLx = map(z->distance_modulus(nominal, z), data.z)\n",
    "abs_mag = median(data.mag - DLx)\n",
    "\n",
    "# Here's another way to plot a function evaluated on a grid of values.\n",
    "zgrid = 0.01:0.01:1.\n",
    "DL = map(z->distance_modulus(nominal, z), zgrid)\n",
    "lines!(zgrid, DL .+ abs_mag, label=\"Nominal OmegaM = 0.29, OmegaDE = 0.71\")\n",
    "\n",
    "universe = cosmology(OmegaK=0.0, OmegaM=0.6, Tcmb=0)\n",
    "DL = map(z->distance_modulus(universe, z), zgrid)\n",
    "lines!(zgrid, DL .+ abs_mag, color=:red, label=\"OmegaM = 0.6, OmegaDE = 0.4\")\n",
    "\n",
    "universe = cosmology(OmegaK=0.0, OmegaM=0.1, Tcmb=0)\n",
    "DL = map(z->distance_modulus(universe, z), zgrid)\n",
    "lines!(zgrid, DL .+ abs_mag, color=:green, label=\"OmegaM = 0.1, OmegaDE = 0.9\")\n",
    "\n",
    "#f[2,1] = Legend(f, ax, \"Cosmologies\", framevisible = false)\n",
    "# Create a legend for our plot\n",
    "axislegend(ax, position = :rb)\n",
    "f"
   ]
  },
  {
   "cell_type": "code",
   "execution_count": 9,
   "id": "f0ea93f2-27bb-4797-bc32-3eedce485a37",
   "metadata": {},
   "outputs": [
    {
     "data": {
      "text/plain": [
       "-19.228824925301424"
      ]
     },
     "metadata": {},
     "output_type": "display_data"
    }
   ],
   "source": [
    "# Here's our scalar estimate of the absolute mag.\n",
    "abs_mag"
   ]
  },
  {
   "cell_type": "markdown",
   "id": "06d4b51d-099c-4c8a-8bc8-505b6f3dc99c",
   "metadata": {},
   "source": [
    "## Part 1 - The Log-likelihood terrain"
   ]
  },
  {
   "cell_type": "markdown",
   "id": "f31e698a-cf0b-4b7f-b47f-b8e37f38b686",
   "metadata": {},
   "source": [
    "First, you have to write out the likelihood function for the observed supernova data, given cosmological model parameters.\n",
    "\n",
    "That is, please complete the following function.  It will be passed vectors of `z`, `mag`, and `mag_error` measurements,\n",
    "plus scalar parameters `M`, `Omega_M` and `Omega_DE`.  You will need to create a \"cosmology\" object, find the _distance modulus_ for\n",
    "each redshift `z`, and add that to the absolute mag `M` to get the _predicted_ magnitude.  You will then compare that to each\n",
    "measured magnitude, and compute the likelihood."
   ]
  },
  {
   "cell_type": "code",
   "execution_count": 11,
   "id": "24887ff8-e68b-49cc-bcc1-c43849059be0",
   "metadata": {},
   "outputs": [],
   "source": [
    "function supernova_log_likelihood(z, mag, mag_error, M, Omatter, Ode)\n",
    "    # z: vector of redshifts\n",
    "    # mag: vector of measured magnitudes\n",
    "    # mag_error: vector of uncertainties on the measured magnitudes (sigmas).\n",
    "    # M: scalar, absolute magnitude of a Type-1a supernova\n",
    "    # Omatter: scalar Omega_M, amount of matter in the universe\n",
    "    # Ode: scalar Omega_DE, amount of dark energy in the universe\n",
    "\n",
    "    ###   YOUR CODE HERE!!\n",
    "    OmegaK = 1 - Omatter - Ode\n",
    "    universe = cosmology(OmegaK = OmegaK, OmegaM = Omatter, Tcmb=0)\n",
    "    \n",
    "    mag_pred = M .+ map(zi->distance_modulus(universe, zi), z)\n",
    "    chi = (mag_pred .- mag) ./ mag_error\n",
    "    # Here, I am omitting the 1/(sqrt(2 pi)) term because it is constant every time!\n",
    "    loglike = -0.5 .* chi .^ 2 - log10.(mag_error)\n",
    "\n",
    "    return sum(loglike)\n",
    "\n",
    "    # You must return a scalar value\n",
    "end;"
   ]
  },
  {
   "cell_type": "markdown",
   "id": "95f5fed8-816a-45b5-b443-70687aca094f",
   "metadata": {},
   "source": [
    "Next, please keep `M` fixed to the `abs_mag` value we computed above, and call your `supernova_log_likelihood` on a grid of\n",
    "`Omega_M` and `Omega_DE` values.  (You will pass in `data.z`, `data.mag`, and `data.sigma_mag` for the `z`, `mag`, and `mag_error` values.)\n",
    "\n",
    "Try a grid from 0 to 1 for both Omega_M and Omega_DE, and show the `supernova_log_likelihood` values using the `heatmap` function.\n",
    "You may find it helpful to limit the range using something like `heatmap(om_grid, ode_grid, sn_ll, colorrange=[maximum(sn_ll)-20, maximum(sn_ll)])`.\n",
    "\n",
    "Another thing you can do is, instead of showing the _log_-likelihood, show the likelihood by taking the `exp` of your `sn_ll` grid, like this, `heatmap(om_grid, ode_grid, exp.(sn_ll))`.\n",
    "\n",
    "Please compare your plot to Figure 7 in the Perlmutter et al. 1999 paper, shown below.  Does your likelihood contour look consistent with the blue ellipses?"
   ]
  },
  {
   "cell_type": "code",
   "execution_count": 12,
   "id": "306b69c2",
   "metadata": {},
   "outputs": [
    {
     "ename": "UndefVarError",
     "evalue": "UndefVarError: abs_mag not defined",
     "output_type": "error",
     "traceback": [
      "UndefVarError: abs_mag not defined\n",
      "\n",
      "Stacktrace:\n",
      " [1] top-level scope\n",
      "   @ c:\\Users\\pgraham1\\Documents\\GitHub\\PSI\\Numerical_Methods\\PSI-Numerical-Methods-2024-MCMC-Homework\\MCMC-homework-assignment.ipynb:5"
     ]
    }
   ],
   "source": [
    "n_DE, n_M = 50, 50\n",
    "om_grid = LinRange(0, 3, n_M)\n",
    "ode_grid = LinRange(-1, 3, n_DE)\n",
    "sn_ll = zeros(n_M, n_DE)\n",
    "M = abs_mag\n",
    "\n",
    "for i in 1:n_DE\n",
    "    for j in 1:n_M\n",
    "        ll = 0.\n",
    "        try\n",
    "            ll = supernova_log_likelihood(data.z, data.mag, data.sigma_mag, abs_mag, 2.0, 2.0)\n",
    "        catch err\n",
    "            ll = -Inf\n",
    "        end\n",
    "        sn_ll[i, j] = ll  \n",
    "    end\n",
    "end\n",
    "\n",
    "colorrange = [maximum(sn_ll)-20, maximum(sn_ll)]\n",
    "fig, ax, hm = heatmap(om_grid, ode_grid, ll_grid, colorrange=colorrange)\n",
    "Colorbar(fig[:, end+1], hm)\n",
    "fig"
   ]
  },
  {
   "cell_type": "markdown",
   "id": "3aa479c5-cfcc-464c-a558-89f14c06598f",
   "metadata": {},
   "source": [
    "<img src=\"perlmutter-fig7.png\" width=\"400\"/>\n",
    "\n"
   ]
  },
  {
   "cell_type": "markdown",
   "id": "8cfd66f9-4563-42d8-98a9-18bed8670740",
   "metadata": {},
   "source": [
    "Next, try expanding the grid ranges for Omega_M and Omega_DE up to, say, 0 to 2 or 0 to 3.  You should encounter a problem -- the cosmology package will fail to compute the `distance_modulus` for some combinations!  You can work around this by using Julia's `try...catch` syntax,\n",
    "like this:"
   ]
  },
  {
   "cell_type": "code",
   "execution_count": 18,
   "id": "eb33058c-5639-4b02-9e09-ff15145ab86b",
   "metadata": {},
   "outputs": [
    {
     "data": {
      "text/plain": [
       "-Inf"
      ]
     },
     "metadata": {},
     "output_type": "display_data"
    }
   ],
   "source": [
    "# Example of Julia's try-catch syntax:\n",
    "ll = 0.\n",
    "try\n",
    "    ll = supernova_log_likelihood(data.z, data.mag, data.sigma_mag, abs_mag, 2.0, 2.0)\n",
    "catch err\n",
    "    ll = -Inf\n",
    "end"
   ]
  },
  {
   "cell_type": "markdown",
   "id": "6948a594-9b26-4ead-b915-e5ffff5b1e55",
   "metadata": {},
   "source": [
    "This will \"try\" to run the `supernova_log_likelihood` function, and if it fails, it will go into the \"catch\" branch."
   ]
  },
  {
   "cell_type": "markdown",
   "id": "e7afcb85-5a3e-4f6b-a3bb-aa4f36e2f34c",
   "metadata": {},
   "source": [
    "## Part 2 - Using MCMC to sample from the likelihood"
   ]
  },
  {
   "cell_type": "markdown",
   "id": "db573922-c863-4ded-91fa-cc458d43c54f",
   "metadata": {},
   "source": [
    "Next, we will use Markov Chain Monte Carlo to draw samples from the likelihood distribution.\n",
    "\n",
    "You can start with the `mcmc` function from the lecture.\n",
    "\n",
    "You will need to tune the MCMC proposal's step sizes (also known as \"jump sizes\").  To do this, you can use\n",
    "the variant of the `mcmc` routine that cycles through the parameters and only jumps one at a time, named\n",
    "`mcmc_cyclic` in the updated lecture notebook.  After tuning the step sizes with `mcmc_cyclic`, you can go back\n",
    "to the plain `mcmc` routine if you want, or stick with `mcmc_cyclic`; it is up to you.\n",
    "\n",
    "Please plot the samples from your MCMC chains, to demonstrate that the chain looks like it has converged.  Ideally, you\n",
    "would like to see reasonable acceptance rates, and you would like to see the samples \"exploring\" the parameter space.\n",
    "Decide how many step you need to run the MCMC routine for, and write a sentence or two describing why you think that's\n",
    "a good number.\n",
    "\n",
    "For this part, please include the `M` (absolute magnitude) as a parameter that you are fitting -- so you are fitting for `M`\n",
    "in addition to `Omega_M` and `Omega_DE`.  This is a quite standard situation where you have a \"nuisance\" parameter `M`\n",
    "that you don't really care about, in addition to the `Omega` parameters that you do care about."
   ]
  },
  {
   "cell_type": "markdown",
   "id": "9bd3cc89-207a-4b34-bb9f-b591e25a513d",
   "metadata": {},
   "source": [
    "It is quite common to plot the results from an MCMC sampling using a \"corner plot\", which shows the distribution of\n",
    "each of the individual parameters, and the joint distributions of pairs of parameters.  This will help you determine\n",
    "whether some of the parameters are correlated with each other.\n",
    "\n",
    "Below is a function you can use to generate corner plots from your chain -- call it like `cornerplot(chain, [\"M\", \"Omega_M\", \"Omega_DE\"])`.  There is also a CornerPlot package (https://juliapackages.com/p/cornerplot) but I have not had luck getting it\n",
    "to work for me.\n",
    "\n",
    "Once you have made you corner plots, please write a few sentences interpreting what you see.  Is the nuisance parameter `M` correlated with the Omegas?  Are the Omegas correlated with each other?"
   ]
  },
  {
   "cell_type": "code",
   "execution_count": 20,
   "id": "2ec8c1f2-b24d-4c5f-a068-3b4868b575eb",
   "metadata": {},
   "outputs": [
    {
     "name": "stdout",
     "output_type": "stream",
     "text": [
      "accept_rate = 0.034"
     ]
    },
    {
     "name": "stdout",
     "output_type": "stream",
     "text": [
      "\n",
      "size(chain) = (10000, 3)\n"
     ]
    },
    {
     "data": {
      "text/plain": [
       "(10000, 3)"
      ]
     },
     "metadata": {},
     "output_type": "display_data"
    }
   ],
   "source": [
    "function propose(p, jump_sizes)\n",
    "    p .+ randn(length(p)) .* jump_sizes\n",
    "end;\n",
    "\n",
    "function mcmc(logprob_func, propose_func, initial_p, n_steps)\n",
    "    p = initial_p\n",
    "    logprob = logprob_func(p)\n",
    "    chain = zeros(n_steps, length(p))\n",
    "    n_accept = 0\n",
    "    for i in 1:n_steps\n",
    "        p_new = propose_func(p)\n",
    "        logprob_new = logprob_func(p_new)\n",
    "        ratio = exp(logprob_new - logprob)\n",
    "\n",
    "        if ratio > 1\n",
    "            p = p_new\n",
    "            logprob = logprob_new\n",
    "            n_accept += 1\n",
    "        else\n",
    "            u = rand()\n",
    "            if u < ratio\n",
    "                p = p_new\n",
    "                logprob = logprob_new\n",
    "                n_accept += 1\n",
    "            else\n",
    "            end\n",
    "        end\n",
    "        chain[i, 1:end] = p\n",
    "    end\n",
    "    chain, n_accept ./ n_steps\n",
    "end;\n",
    "\n",
    "initial_guess = [20, 2, 0]\n",
    "jump_sizes = [1, 0.1, 0.1]\n",
    "\n",
    "chain, accept_rate = mcmc(p -> supernova_log_likelihood(data.z, data.mag, data.sigma_mag, p[1], p[2], p[3]), p -> propose(p, jump_sizes), initial_guess, 10000)\n",
    "@show accept_rate\n",
    "@show size(chain)\n"
   ]
  },
  {
   "cell_type": "code",
   "execution_count": 22,
   "id": "732b877b",
   "metadata": {},
   "outputs": [
    {
     "data": {
      "text/html": [
       "<div class=\"bonito-fragment\" id=\"020e3414-044a-4319-aeaa-806fd7daabf3\" data-jscall-id=\"root\">\n",
       "  <div>\n",
       "    <script src=\"http://localhost:9384/assets/4ee24f2b58206f69d6387aa5ab83ad7a61eaa457-Bonito.bundled.js\" type=\"module\"></script>\n",
       "    <style></style>\n",
       "    <div></div>\n",
       "  </div>\n",
       "  <div>\n",
       "    <script type=\"module\">    Bonito.lock_loading(() => {\n",
       "        return Bonito.fetch_binary('http://localhost:9384/assets/2b7d650a92d58f87d32972edbf10c9c7fec2d52f-4749119821370883769.bin').then(msgs=> Bonito.init_session('020e3414-044a-4319-aeaa-806fd7daabf3', msgs, 'root'));\n",
       "    })\n",
       "</script>\n",
       "    <script type=\"module\">    import('http://localhost:9384/assets/5b98d007e7f7c3345b72a034bcbac6a82691c13d-Websocket.bundled.js').then(WS => {\n",
       "        WS.setup_connection({proxy_url: 'http://localhost:9384', session_id: '020e3414-044a-4319-aeaa-806fd7daabf3', compression_enabled: false})\n",
       "    })\n",
       "</script>\n",
       "    <div style=\"width: 100%; height: 100%\" data-jscall-id=\"1\">\n",
       "      <canvas style=\"display: block\" data-jscall-id=\"2\" tabindex=\"0\"></canvas>\n",
       "    </div>\n",
       "  </div>\n",
       "</div>"
      ],
      "text/plain": [
       "Bonito.App(Bonito.var\"#8#14\"{WGLMakie.var\"#20#21\"{WGLMakie.Screen, Scene}}(WGLMakie.var\"#20#21\"{WGLMakie.Screen, Scene}(WGLMakie.Screen(\n",
       "    framerate = 30.0,\n",
       "    resize_to = nothing,\n",
       "    px_per_unit = automatic,\n",
       "    scalefactor = automatic,\n",
       "    session = nothing,\n",
       "    three = Channel{Bool}(1) (empty),\n",
       "    scene = Scene (600px, 600px):\n",
       "  0 Plots\n",
       "  6 Child Scenes:\n",
       "    ├ Scene (600px, 600px)\n",
       "    ├ Scene (600px, 600px)\n",
       "    ├ Scene (600px, 600px)\n",
       "    ├ Scene (600px, 600px)\n",
       "    ├ Scene (600px, 600px)\n",
       "    └ Scene (600px, 600px),\n",
       "), Scene (600px, 600px):\n",
       "  0 Plots\n",
       "  6 Child Scenes:\n",
       "    ├ Scene (600px, 600px)\n",
       "    ├ Scene (600px, 600px)\n",
       "    ├ Scene (600px, 600px)\n",
       "    ├ Scene (600px, 600px)\n",
       "    ├ Scene (600px, 600px)\n",
       "    └ Scene (600px, 600px))), Base.RefValue{Union{Nothing, Bonito.Session}}(nothing), \"Bonito App\", false)"
      ]
     },
     "metadata": {},
     "output_type": "display_data"
    },
    {
     "ename": "ErrorException",
     "evalue": "Can't get three: Timed out waiting for session to get ready\nWaiting for plot to be initialized in display",
     "output_type": "error",
     "traceback": [
      "Can't get three: Timed out waiting for session to get ready\n",
      "Waiting for plot to be initialized in display\n",
      "\n",
      "Stacktrace:\n",
      "  [1] error(s::String)\n",
      "    @ Base .\\error.jl:33\n",
      "  [2] (::WGLMakie.var\"#throw_error#16\"{String})(status::String)\n",
      "    @ WGLMakie C:\\Users\\pgraham1\\.julia\\packages\\WGLMakie\\T8XOh\\src\\display.jl:197\n",
      "  [3] get_screen_session(screen::WGLMakie.Screen; timeout::Int64, error::String)\n",
      "    @ WGLMakie C:\\Users\\pgraham1\\.julia\\packages\\WGLMakie\\T8XOh\\src\\display.jl:210\n",
      "  [4] display(screen::WGLMakie.Screen, scene::Scene; unused::Base.Iterators.Pairs{Union{}, Union{}, Tuple{}, NamedTuple{(), Tuple{}}})\n",
      "    @ WGLMakie C:\\Users\\pgraham1\\.julia\\packages\\WGLMakie\\T8XOh\\src\\display.jl:255\n",
      "  [5] display\n",
      "    @ C:\\Users\\pgraham1\\.julia\\packages\\WGLMakie\\T8XOh\\src\\display.jl:246 [inlined]\n",
      "  [6] colorbuffer(screen::WGLMakie.Screen)\n",
      "    @ WGLMakie C:\\Users\\pgraham1\\.julia\\packages\\WGLMakie\\T8XOh\\src\\display.jl:277\n",
      "  [7] backend_show(screen::WGLMakie.Screen, io::IOStream, #unused#::MIME{Symbol(\"image/png\")}, scene::Scene)\n",
      "    @ Makie C:\\Users\\pgraham1\\.julia\\packages\\Makie\\fyNiH\\src\\display.jl:476\n",
      "  [8] (::Makie.var\"#1263#1264\"{Module, Bool, Base.Iterators.Pairs{Union{}, Union{}, Tuple{}, NamedTuple{(), Tuple{}}}, Figure, MIME{Symbol(\"image/png\")}, Scene})(io::IOStream)\n",
      "    @ Makie C:\\Users\\pgraham1\\.julia\\packages\\Makie\\fyNiH\\src\\display.jl:344\n",
      "  [9] open(::Makie.var\"#1263#1264\"{Module, Bool, Base.Iterators.Pairs{Union{}, Union{}, Tuple{}, NamedTuple{(), Tuple{}}}, Figure, MIME{Symbol(\"image/png\")}, Scene}, ::String, ::Vararg{String, N} where N; kwargs::Base.Iterators.Pairs{Union{}, Union{}, Tuple{}, NamedTuple{(), Tuple{}}})\n",
      "    @ Base .\\io.jl:330\n",
      " [10] open\n",
      "    @ .\\io.jl:328 [inlined]\n",
      " [11] save(file::FileIO.File{FileIO.DataFormat{:PNG}, String}, fig::Figure; size::Tuple{Int64, Int64}, resolution::Nothing, backend::Module, update::Bool, screen_config::Base.Iterators.Pairs{Union{}, Union{}, Tuple{}, NamedTuple{(), Tuple{}}})\n",
      "    @ Makie C:\\Users\\pgraham1\\.julia\\packages\\Makie\\fyNiH\\src\\display.jl:336\n",
      " [12] save(file::FileIO.File{FileIO.DataFormat{:PNG}, String}, fig::Figure)\n",
      "    @ Makie C:\\Users\\pgraham1\\.julia\\packages\\Makie\\fyNiH\\src\\display.jl:316\n",
      " [13] save(filename::String, fig::Figure; args::Base.Iterators.Pairs{Union{}, Union{}, Tuple{}, NamedTuple{(), Tuple{}}})\n",
      "    @ Makie C:\\Users\\pgraham1\\.julia\\packages\\Makie\\fyNiH\\src\\display.jl:305\n",
      " [14] save(filename::String, fig::Figure)\n",
      "    @ Makie C:\\Users\\pgraham1\\.julia\\packages\\Makie\\fyNiH\\src\\display.jl:305\n",
      " [15] top-level scope\n",
      "    @ c:\\Users\\pgraham1\\Documents\\GitHub\\PSI\\Numerical_Methods\\PSI-Numerical-Methods-2024-MCMC-Homework\\MCMC-homework-assignment.ipynb:28"
     ]
    }
   ],
   "source": [
    "function cornerplot(x, names; figsize=(600,600))\n",
    "    # how many columns of data\n",
    "    dim = size(x, 2)\n",
    "    # rows to plot\n",
    "    idxs = 1:size(x,1)\n",
    "    f = Figure(size=figsize)\n",
    "    for i in 1:dim, j in 1:dim\n",
    "        if i < j\n",
    "            continue\n",
    "        end\n",
    "        ax = Axis(f[i, j], aspect = 1,\n",
    "                  topspinevisible = false,\n",
    "                  rightspinevisible = false,)\n",
    "        if i == j\n",
    "            hist!(x[idxs,i], direction=:y)\n",
    "            ax.xlabel = names[i]\n",
    "        else\n",
    "            #scatter!(x[idxs,j], x[idxs,i], markersize=4)\n",
    "            hexbin!(x[idxs,j], x[idxs,i])\n",
    "            ax.xlabel = names[j]\n",
    "            ax.ylabel = names[i]\n",
    "        end\n",
    "    end\n",
    "    f\n",
    "end;\n",
    "\n",
    "f = cornerplot(chain, [\"M\", \"Omega_M\", \"Omega_DE\"])\n",
    "save(\"cornerplot.png\", f)"
   ]
  },
  {
   "cell_type": "markdown",
   "id": "b461568a-ce96-4bb3-9031-652320a7334c",
   "metadata": {},
   "source": [
    "Finally, please try to make a contour plot similar to Perlmutter et al.'s Figure 7.  From your MCMC chain, you can pull out the `Omega_M` and `Omega_DE` arrays, and then create a 2-d histogram.  Once you have a 2-d histogram, you can use the `contour` function to find and plot the contours in that histogram."
   ]
  }
 ],
 "metadata": {
  "kernelspec": {
   "display_name": "Julia 1.6.7",
   "language": "julia",
   "name": "julia-1.6"
  },
  "language_info": {
   "file_extension": ".jl",
   "mimetype": "application/julia",
   "name": "julia",
   "version": "1.6.7"
  }
 },
 "nbformat": 4,
 "nbformat_minor": 5
}
